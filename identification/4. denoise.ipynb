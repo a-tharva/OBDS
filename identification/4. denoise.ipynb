{
 "cells": [
  {
   "cell_type": "code",
   "execution_count": null,
   "id": "91c7f46e",
   "metadata": {},
   "outputs": [],
   "source": [
    "import numpy as np\n",
    "import librosa\n",
    "import librosa.display\n",
    "from pydub import AudioSegment\n",
    "from pathlib import Path\n",
    "import os\n",
    "from scipy.io.wavfile import write"
   ]
  },
  {
   "cell_type": "code",
   "execution_count": null,
   "id": "a143a92a",
   "metadata": {},
   "outputs": [],
   "source": [
    "def remove_silence(signal):\n",
    "    return signal[librosa.effects.split(signal)[0][0] : librosa.effects.split(signal)[0][-1]]"
   ]
  },
  {
   "cell_type": "code",
   "execution_count": null,
   "id": "5634118a",
   "metadata": {},
   "outputs": [],
   "source": [
    "folder_name = \"\" # Path to folder with recordings\n",
    "def refine_fun():\n",
    "    filepath = Path(folder_name)\n",
    "    outputpath =  Path(folder_name)\n",
    "    \n",
    "    for wav in os.listdir(filepath):\n",
    "        signal, sample_rate = librosa.load(f\"{folder_name}\\\\\" + wav, sr = None)\n",
    "        DNsignal = remove_silence(signal)\n",
    "        print(f'writing denoised wav {wav}')\n",
    "        write(f\"{folder_name}\\\\\" + 'DN' + wav, sample_rate, DNsignal)\n",
    "    print('--Completed')\n",
    "        \n",
    "refine_fun()"
   ]
  }
 ],
 "metadata": {
  "kernelspec": {
   "display_name": "Python 3 (ipykernel)",
   "language": "python",
   "name": "python3"
  },
  "language_info": {
   "codemirror_mode": {
    "name": "ipython",
    "version": 3
   },
   "file_extension": ".py",
   "mimetype": "text/x-python",
   "name": "python",
   "nbconvert_exporter": "python",
   "pygments_lexer": "ipython3",
   "version": "3.10.2"
  }
 },
 "nbformat": 4,
 "nbformat_minor": 5
}
