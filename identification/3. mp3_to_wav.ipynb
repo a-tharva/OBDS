{
 "cells": [
  {
   "cell_type": "code",
   "execution_count": null,
   "id": "81a98071",
   "metadata": {},
   "outputs": [],
   "source": [
    "from pydub import AudioSegment\n",
    "from pathlib import Path\n",
    "import os"
   ]
  },
  {
   "cell_type": "code",
   "execution_count": null,
   "id": "8d9ad7ae",
   "metadata": {},
   "outputs": [],
   "source": [
    "def mp3_to_wav(filepath,filename,outputpath):\n",
    "    sound = AudioSegment.from_mp3(filepath / filename)\n",
    "    outputfilename = filename[:-3] + \"wav\"\n",
    "    sound.export(outputpath / outputfilename, format=\"wav\")"
   ]
  },
  {
   "cell_type": "code",
   "execution_count": null,
   "id": "a97c0907",
   "metadata": {},
   "outputs": [],
   "source": [
    "def convert_fun():\n",
    "    \n",
    "    filepath = Path(\"\") # Path to mp3 files\n",
    "    outputpath =  Path(\"\") # Output save location\n",
    "\n",
    "    for audio in os.listdir(filepath):\n",
    "        if audio.endswith('.json'):\n",
    "            continue\n",
    "        print(f\"Converting {audio} to wav\")\n",
    "        mp3_to_wav(filepath,audio,outputpath)\n",
    "    print('--Completed')\n",
    "convert_fun()"
   ]
  }
 ],
 "metadata": {
  "kernelspec": {
   "display_name": "Python 3 (ipykernel)",
   "language": "python",
   "name": "python3"
  },
  "language_info": {
   "codemirror_mode": {
    "name": "ipython",
    "version": 3
   },
   "file_extension": ".py",
   "mimetype": "text/x-python",
   "name": "python",
   "nbconvert_exporter": "python",
   "pygments_lexer": "ipython3",
   "version": "3.10.2"
  }
 },
 "nbformat": 4,
 "nbformat_minor": 5
}
