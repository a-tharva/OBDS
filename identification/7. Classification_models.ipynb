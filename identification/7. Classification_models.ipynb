{
 "cells": [
  {
   "cell_type": "code",
   "execution_count": null,
   "id": "6460b201",
   "metadata": {},
   "outputs": [],
   "source": [
    "from sklearn.preprocessing import StandardScaler\n",
    "sc = StandardScaler()\n",
    "X = inputs\n",
    "x_train = sc.fit_transform(X)\n",
    "\n",
    "# Import label encoder\n",
    "from sklearn.preprocessing import LabelEncoder\n",
    " \n",
    "# label_encoder object knows how to understand word labels.\n",
    "label_encoder = LabelEncoder()\n",
    "y = target\n",
    "y = label_encoder.fit_transform(y)"
   ]
  },
  {
   "cell_type": "markdown",
   "id": "6890ad1f",
   "metadata": {},
   "source": [
    "KNN"
   ]
  },
  {
   "cell_type": "code",
   "execution_count": null,
   "id": "ca4b1205",
   "metadata": {},
   "outputs": [],
   "source": [
    "from sklearn.neighbors import KNeighborsClassifier\n",
    "classifier = KNeighborsClassifier(n_neighbors=5)\n",
    "classifier.fit(x_train,y)\n",
    "\n",
    "# Performance\n",
    "from sklearn.metrics import confusion_matrix,accuracy_score\n",
    "y_pred = classifier.predict(x_train)\n",
    "cm = confusion_matrix(y,y_pred)\n",
    "print(cm)\n",
    "print(\"Accuracy of KNN:\",accuracy_score(y, y_pred))"
   ]
  },
  {
   "cell_type": "markdown",
   "id": "2f834c7e",
   "metadata": {},
   "source": [
    "SVM"
   ]
  },
  {
   "cell_type": "code",
   "execution_count": null,
   "id": "e961e347",
   "metadata": {},
   "outputs": [],
   "source": [
    "from sklearn.svm import SVC\n",
    "classifier = SVC(kernel = 'linear',random_state=0)\n",
    "classifier.fit(x_train,y)\n",
    "\n",
    "# Performance\n",
    "from sklearn.metrics import confusion_matrix,accuracy_score\n",
    "y_pred = classifier.predict(x_train)\n",
    "cm = confusion_matrix(y,y_pred)\n",
    "print(cm)\n",
    "print(\"Accuracy of SVM:\",accuracy_score(y, y_pred))"
   ]
  }
 ],
 "metadata": {
  "kernelspec": {
   "display_name": "Python 3 (ipykernel)",
   "language": "python",
   "name": "python3"
  },
  "language_info": {
   "codemirror_mode": {
    "name": "ipython",
    "version": 3
   },
   "file_extension": ".py",
   "mimetype": "text/x-python",
   "name": "python",
   "nbconvert_exporter": "python",
   "pygments_lexer": "ipython3",
   "version": "3.10.2"
  }
 },
 "nbformat": 4,
 "nbformat_minor": 5
}
