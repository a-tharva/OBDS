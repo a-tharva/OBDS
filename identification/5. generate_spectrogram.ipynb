{
 "cells": [
  {
   "cell_type": "code",
   "execution_count": 2,
   "id": "8d46b5d3",
   "metadata": {},
   "outputs": [],
   "source": [
    "import numpy as np\n",
    "import librosa\n",
    "import librosa.display\n",
    "from pydub import AudioSegment\n",
    "from pathlib import Path\n",
    "import os\n",
    "from scipy.io.wavfile import write\n",
    "import matplotlib.pyplot as plt"
   ]
  },
  {
   "cell_type": "code",
   "execution_count": null,
   "id": "57bfcd7a",
   "metadata": {},
   "outputs": [],
   "source": [
    "file_name = \"\" # Path to folder with audio recordings\n",
    "\n",
    "filepath =  Path(file_name)\n",
    "for i in os.listdir(filepath):\n",
    "\n",
    "    signal, sample_rate = librosa.load(f'{file_name}\\\\{i}', sr=None)\n",
    "    librosa.effects.split(signal)\n",
    "\n",
    "    N_FFT = 1024         \n",
    "    HOP_SIZE = 1024       \n",
    "    N_MELS = 128            \n",
    "    WIN_SIZE = 1024      \n",
    "    WINDOW_TYPE = 'hann' \n",
    "    FEATURE = 'mel'      \n",
    "    FMIN = 1400 \n",
    "\n",
    "    S = librosa.feature.melspectrogram(y=signal,sr=sample_rate,\n",
    "                                        n_fft=N_FFT,\n",
    "                                        hop_length=HOP_SIZE, \n",
    "                                        n_mels=N_MELS, \n",
    "                                        htk=True, \n",
    "                                        fmin=FMIN, \n",
    "                                        fmax=sample_rate/2) \n",
    "\n",
    "\n",
    "\n",
    "    fig = plt.figure(figsize=(10, 4))\n",
    "    librosa.display.specshow(librosa.power_to_db(S**2,ref=np.max), fmin=FMIN,y_axis='linear')\n",
    "    # plt.colorbar(format='%+2.0f dB')\n",
    "    plt.axis('tight')\n",
    "    plt.axis('off')\n",
    "    plt.show()\n",
    "    fig.savefig(f'{i[-8:-4]}.png', dpi=300, frameon='false') # The script will save the files to the location of execution\n",
    "                                                             # Change the first parameter to the file location and name to save\n",
    "                                                             # at custom location\n",
    "print('--Completed')"
   ]
  },
  {
   "cell_type": "code",
   "execution_count": null,
   "id": "69719f0e",
   "metadata": {},
   "outputs": [],
   "source": []
  },
  {
   "cell_type": "code",
   "execution_count": null,
   "id": "4aa652c6",
   "metadata": {},
   "outputs": [],
   "source": []
  }
 ],
 "metadata": {
  "kernelspec": {
   "display_name": "Python 3 (ipykernel)",
   "language": "python",
   "name": "python3"
  },
  "language_info": {
   "codemirror_mode": {
    "name": "ipython",
    "version": 3
   },
   "file_extension": ".py",
   "mimetype": "text/x-python",
   "name": "python",
   "nbconvert_exporter": "python",
   "pygments_lexer": "ipython3",
   "version": "3.10.2"
  }
 },
 "nbformat": 4,
 "nbformat_minor": 5
}
